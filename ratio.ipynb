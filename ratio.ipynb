{
  "cells": [
    {
      "cell_type": "code",
      "source": [
        "import cabinetry\n",
        "import hist\n",
        "import matplotlib\n",
        "import matplotlib.pyplot as plt\n",
        "import mplhep\n",
        "import numpy as np\n",
        "import uncertainties\n",
        "import utils\n",
        "from hist import Hist\n",
        "\n",
        "matplotlib.rcParams['figure.figsize'] = [8.0, 6.0]\n",
        "matplotlib.rcParams['font.size'] = 14\n",
        "matplotlib.rcParams['axes.labelsize'] = 'large'\n",
        "\n",
        "np.random.seed(101)\n"
      ],
      "outputs": [],
      "execution_count": null,
      "metadata": {
        "jupyter": {
          "source_hidden": false,
          "outputs_hidden": false
        },
        "nteract": {
          "transient": {
            "deleting": false
          }
        }
      }
    },
    {
      "cell_type": "markdown",
      "source": [
        "fit the ratio"
      ],
      "metadata": {
        "nteract": {
          "transient": {
            "deleting": false
          }
        }
      }
    },
    {
      "cell_type": "code",
      "source": [
        "\n",
        "# we create more toy MC and data for a second channel\n",
        "\n",
        "bkg = np.random.uniform(0, 18, size=5_000)\n",
        "sig = np.random.exponential(scale=20, size=5_000)\n",
        "\n",
        "# fill a histogram with the hist library\n",
        "ax = hist.axis.Regular(15, 0, 18, name='M2')\n",
        "h_bkg = Hist(ax, storage=hist.storage.Weight()).fill(bkg, weight=0.5)\n",
        "h_sig = Hist(ax, storage=hist.storage.Weight()).fill(sig, weight=0.2)\n",
        "h_sig.variances()[h_sig.values() == 0] = 1E-6\n",
        "h_sig.values()[h_sig.values() == 0] = 1E-4\n",
        "\n",
        "data = np.concatenate([np.random.uniform(0, 18, size=np.random.poisson(2_500)),\n",
        "                       np.random.exponential(scale=20, size=np.random.poisson(1_000))])\n",
        "h_data = Hist(ax, storage=hist.storage.Int64()).fill(data)\n",
        "\n",
        "# show our toy MC and data\n",
        "mplhep.histplot([h_bkg, h_sig], label=['background', 'signal'], stack=True)\n",
        "h_data.plot(histtype='errorbar', color='k')\n",
        "plt.legend()\n",
        "plt.show()\n"
      ],
      "outputs": [],
      "execution_count": null,
      "metadata": {
        "jupyter": {
          "source_hidden": false,
          "outputs_hidden": false
        },
        "nteract": {
          "transient": {
            "deleting": false
          }
        }
      }
    },
    {
      "cell_type": "code",
      "source": [
        "\n",
        "# let's assume the background normalisation is correlated between both channels\n",
        "\n",
        "model_dict = cabinetry.workspace.load(\"workspace.json\")\n",
        "\n",
        "\n",
        "model_dict['observations'].append(\n",
        "    {\"name\": 'channel_2',\n",
        "     \"data\": list(h_data.values().astype(float))}\n",
        ")\n",
        "\n",
        "model_dict['channels'].append({\n",
        "    'name': 'channel_2',\n",
        "    'samples': []\n",
        "})\n",
        "\n",
        "model_dict['channels'][0]['samples'][1]['modifiers'][0] = {\"name\": \"bkg_norm\", \"type\": \"normsys\", \"data\": {\"hi\": 1.2, \"lo\": 0.8}}\n",
        "model_dict['channels'][1]['samples'].append({\n",
        "    'name': 'signal_2',\n",
        "    'data': list(h_sig.values()),\n",
        "    'modifiers': [\n",
        "        {\"name\": \"mu_2\", \"type\": \"normfactor\", \"data\": None},\n",
        "        {\"name\": \"sig_stat_error_2\",\n",
        "         \"type\": \"staterror\",\n",
        "         \"data\": list(np.sqrt(h_sig.variances()))}\n",
        "    ]\n",
        "})\n",
        "\n",
        "bkg_modifiers = []\n",
        "bkg_modifiers.append({\"name\": \"bkg_norm\", \"type\": \"normsys\", \"data\": {\"hi\": 1.4, \"lo\": 0.6}})\n",
        "bkg_modifiers.append({\"name\": \"bkg_stat_error_2\",\n",
        "                      \"type\": \"staterror\",\n",
        "                      \"data\": list(np.sqrt(h_bkg.variances()))})\n",
        "\n",
        "model_dict['channels'][1]['samples'].append({\n",
        "    'name': 'background',\n",
        "    'data': list(h_bkg.values()),\n",
        "    'modifiers': bkg_modifiers\n",
        "})\n",
        "\n",
        "utils.save_model(model_dict, 'workspace_2channel')\n",
        "\n",
        "# plot\n",
        "model, data = cabinetry.model_utils.model_and_data(model_dict)\n",
        "fit_results = utils.fit_model(model, data, goodness_of_fit=True)\n",
        "\n",
        "print(f'correlation mu, mu2: {fit_results.corr_mat[fit_results.labels.index(\"mu\"), fit_results.labels.index(\"mu_2\")]:.3f}')\n"
      ],
      "outputs": [],
      "execution_count": null,
      "metadata": {
        "jupyter": {
          "source_hidden": false,
          "outputs_hidden": false
        },
        "nteract": {
          "transient": {
            "deleting": false
          }
        }
      }
    },
    {
      "cell_type": "markdown",
      "source": [
        "### fit BF/cross section instead of signal strenght\n",
        "- just need to apply a scaling factor to the templates\n",
        "- signal strenght of 1 would correspond to measuring the same BF as is in the generator\n",
        "- for this toy example:\n",
        "- signal in channel_1: BF=0.5\n",
        "- signal in channel_2: BF=0.25"
      ],
      "metadata": {
        "nteract": {
          "transient": {
            "deleting": false
          }
        }
      }
    },
    {
      "cell_type": "code",
      "source": [
        "\n",
        "model_dict = cabinetry.workspace.load(\"workspace_2channel.json\")\n",
        "\n",
        "parameters = model_dict['measurements'][0]['config']['parameters']\n",
        "parameters.append({\"name\": \"inv_BF_1\", \"inits\": [1 / 0.5], \"fixed\": True})\n",
        "parameters.append({\"name\": \"inv_BF_2\", \"inits\": [1 / 0.25], \"fixed\": True})\n",
        "parameters.append({\"name\": \"BF_1\", \"inits\": [0.5]})\n",
        "parameters.append({\"name\": \"BF_2\", \"inits\": [0.25]})\n",
        "\n",
        "model_dict['measurements'][0]['config']['poi'] = 'BF_1'\n",
        "model_dict['channels'][0]['samples'][0]['modifiers'][0]['name'] = 'BF_1'  # normfactor\n",
        "model_dict['channels'][1]['samples'][0]['modifiers'][0]['name'] = 'BF_2'  # normfactor\n",
        "\n",
        "model_dict['channels'][0]['samples'][0]['modifiers'].append(\n",
        "    {\"name\": \"inv_BF_1\", \"type\": \"normfactor\", \"data\": None})  # fixed normfactor\n",
        "model_dict['channels'][1]['samples'][0]['modifiers'].append(\n",
        "    {\"name\": \"inv_BF_2\", \"type\": \"normfactor\", \"data\": None})  # fixed normfactor\n",
        "\n",
        "utils.save_model(model_dict, 'workspace_bf')\n"
      ],
      "outputs": [],
      "execution_count": null,
      "metadata": {
        "jupyter": {
          "source_hidden": false,
          "outputs_hidden": false
        },
        "nteract": {
          "transient": {
            "deleting": false
          }
        }
      }
    },
    {
      "cell_type": "code",
      "source": [
        "\n",
        "\n",
        "model_dict = cabinetry.workspace.load(\"workspace_bf.json\")\n",
        "model, data = cabinetry.model_utils.model_and_data(model_dict)\n",
        "fit_results = utils.fit_model(model, data, goodness_of_fit=True)\n",
        "\n",
        "par_estimates = [(fit_results.bestfit[fit_results.labels.index(par_name)],\n",
        "                  fit_results.uncertainty[fit_results.labels.index(par_name)])\n",
        "                 for par_name in ['BF_1', 'BF_2']]\n"
      ],
      "outputs": [],
      "execution_count": null,
      "metadata": {
        "jupyter": {
          "source_hidden": false,
          "outputs_hidden": false
        },
        "nteract": {
          "transient": {
            "deleting": false
          }
        }
      }
    },
    {
      "cell_type": "code",
      "source": [
        "# now we can compute the ratio of the fitted branching fractions, taking into account their correlation because of the shared backgrond normalisation\n",
        "\n",
        "print('\\ntaking into account correlation between fitted parameters')\n",
        "bf1_i = fit_results.labels.index('BF_1')\n",
        "bf2_i = fit_results.labels.index('BF_2')\n",
        "corr_matrix = fit_results.corr_mat[[[bf1_i, bf1_i], [bf2_i, bf2_i]], [bf1_i, bf2_i]]\n",
        "print(corr_matrix)\n",
        "bf1, bf2 = uncertainties.correlated_values_norm(par_estimates, corr_matrix)\n",
        "print(f'ratio={bf1 / bf2:.3}')\n",
        "\n",
        "print('\\nwithout correlation:')\n",
        "corr_matrix = np.identity(2)\n",
        "bf1, bf2 = uncertainties.correlated_values_norm(par_estimates, corr_matrix)\n",
        "print(f'ratio={bf1 / bf2:.3}')\n"
      ],
      "outputs": [],
      "execution_count": null,
      "metadata": {
        "jupyter": {
          "source_hidden": false,
          "outputs_hidden": false
        },
        "nteract": {
          "transient": {
            "deleting": false
          }
        }
      }
    },
    {
      "cell_type": "code",
      "source": [
        "\n",
        "# or we can also fit the ratio directly\n",
        "\n",
        "model_dict = cabinetry.workspace.load(\"workspace_bf.json\")\n",
        "\n",
        "parameters = model_dict['measurements'][0]['config']['parameters']\n",
        "\n",
        "# replace BF_1 with ratio\n",
        "parameters[2] = {\"name\": \"ratio\", \"inits\": [2.0], \"bounds\": [[0, 20]]}\n",
        "model_dict['measurements'][0]['config']['poi'] = 'ratio'\n",
        "model_dict['channels'][0]['samples'][0]['modifiers'][0]['name'] = 'ratio'\n",
        "\n",
        "# multiply BF_2 to channel_1 signal normalisation, then we measure directly BF_1 / BF_2\n",
        "model_dict['channels'][0]['samples'][0]['modifiers'].append(\n",
        "    {\"name\": \"BF_2\", \"type\": \"normfactor\", \"data\": None})\n",
        "\n",
        "utils.save_model(model_dict, 'workspace_ratio')\n"
      ],
      "outputs": [],
      "execution_count": null,
      "metadata": {
        "jupyter": {
          "source_hidden": false,
          "outputs_hidden": false
        },
        "nteract": {
          "transient": {
            "deleting": false
          }
        }
      }
    },
    {
      "cell_type": "code",
      "source": [
        "\n",
        "model_dict = cabinetry.workspace.load(\"workspace_ratio.json\")\n",
        "model, data = cabinetry.model_utils.model_and_data(model_dict)\n",
        "fit_results = utils.fit_model(model, data, goodness_of_fit=True)"
      ],
      "outputs": [],
      "execution_count": null,
      "metadata": {
        "jupyter": {
          "source_hidden": false,
          "outputs_hidden": false
        },
        "nteract": {
          "transient": {
            "deleting": false
          }
        }
      }
    }
  ],
  "metadata": {},
  "nbformat": 4,
  "nbformat_minor": 0
}